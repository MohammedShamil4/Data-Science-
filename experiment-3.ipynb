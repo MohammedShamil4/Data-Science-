{
 "cells": [
  {
   "cell_type": "code",
   "execution_count": 2,
   "metadata": {},
   "outputs": [
    {
     "name": "stdout",
     "output_type": "stream",
     "text": [
      "matrix is :\n",
      " [[1 2]\n",
      " [3 4]]\n",
      "\n",
      " svd of the matrix is\n",
      "\n",
      " m*m : \n",
      " [[-0.40455358 -0.9145143 ]\n",
      " [-0.9145143   0.40455358]]\n",
      "\n",
      " m*n : \n",
      " [5.4649857  0.36596619]\n",
      "\n",
      " n*n : \n",
      " [[-0.57604844 -0.81741556]\n",
      " [ 0.81741556 -0.57604844]]\n",
      "\n",
      " reconstruction of old matrix\n",
      "[[1. 2.]\n",
      " [3. 4.]]\n"
     ]
    }
   ],
   "source": [
    "#program to perform svd using python\n",
    "import numpy as np\n",
    "from scipy.linalg import svd\n",
    "\n",
    "m=np.array([[1,2],[3,4]])\n",
    "print(\"matrix is :\\n\",m)\n",
    "a,b,c=svd(m)\n",
    "print(\"\\n svd of the matrix is\")\n",
    "print(\"\\n m*m : \\n\",a)\n",
    "print(\"\\n m*n : \\n\",b)\n",
    "print(\"\\n n*n : \\n\",c)\n",
    "print(\"\\n reconstruction of old matrix\")\n",
    "print(a @ np.diag(b) @c)"
   ]
  }
 ],
 "metadata": {
  "kernelspec": {
   "display_name": "Python 3",
   "language": "python",
   "name": "python3"
  },
  "language_info": {
   "codemirror_mode": {
    "name": "ipython",
    "version": 3
   },
   "file_extension": ".py",
   "mimetype": "text/x-python",
   "name": "python",
   "nbconvert_exporter": "python",
   "pygments_lexer": "ipython3",
   "version": "3.6.3"
  }
 },
 "nbformat": 4,
 "nbformat_minor": 2
}
