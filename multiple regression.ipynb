{
 "cells": [
  {
   "cell_type": "code",
   "execution_count": 1,
   "metadata": {},
   "outputs": [
    {
     "name": "stdout",
     "output_type": "stream",
     "text": [
      "(150, 4)\n",
      "(150, 4)\n",
      "0.06325336904344214\n",
      "0.888612359879597\n"
     ]
    }
   ],
   "source": [
    "from sklearn.datasets import  load_iris\n",
    "import numpy as np\n",
    "# dataset=load_iris()\n",
    "x,y =load_iris(return_X_y=True)\n",
    "\n",
    "\n",
    "print(x.shape)\n",
    "print(x.shape)\n",
    "\n",
    "\n",
    "\n",
    "#spliting\n",
    "from sklearn.model_selection import train_test_split\n",
    "\n",
    "x_train,x_test,y_train,y_test=train_test_split(x,y,test_size=0.25,random_state=0)\n",
    "\n",
    "from sklearn.linear_model import LinearRegression as LR\n",
    "reg = LR()\n",
    "reg.fit(x_train,y_train)\n",
    "p = reg.predict(x_test)\n",
    "\n",
    "\n",
    "from sklearn.metrics import mean_squared_error as MSE ,r2_score as R2S\n",
    "a = MSE(y_test,p)\n",
    "b = R2S(y_test,p)\n",
    "print(a)\n",
    "print(b)"
   ]
  },
  {
   "cell_type": "code",
   "execution_count": null,
   "metadata": {
    "collapsed": true
   },
   "outputs": [],
   "source": []
  }
 ],
 "metadata": {
  "kernelspec": {
   "display_name": "Python 3",
   "language": "python",
   "name": "python3"
  },
  "language_info": {
   "codemirror_mode": {
    "name": "ipython",
    "version": 3
   },
   "file_extension": ".py",
   "mimetype": "text/x-python",
   "name": "python",
   "nbconvert_exporter": "python",
   "pygments_lexer": "ipython3",
   "version": "3.6.3"
  }
 },
 "nbformat": 4,
 "nbformat_minor": 2
}
