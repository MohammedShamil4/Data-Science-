{
 "cells": [
  {
   "cell_type": "code",
   "execution_count": 14,
   "metadata": {},
   "outputs": [
    {
     "name": "stdout",
     "output_type": "stream",
     "text": [
      "enter first number: 5\n",
      "enter second number: 2\n",
      "\n",
      "1.sum \n",
      "2.dif \n",
      "3.mult \n",
      "4.div\n",
      "\n",
      "enter your choice: 1\n",
      "sum is  7\n",
      "\n",
      "1.sum \n",
      "2.dif \n",
      "3.mult \n",
      "4.div\n",
      "\n",
      "enter your choice: 3\n",
      "multiplication is  10\n",
      "\n",
      "1.sum \n",
      "2.dif \n",
      "3.mult \n",
      "4.div\n",
      "\n",
      "enter your choice: 5\n",
      "\n",
      "exiting..\n"
     ]
    }
   ],
   "source": [
    "#program to implement simple calculator\n",
    "m=int(input(\"enter first number: \"))\n",
    "n=int(input(\"enter second number: \"))\n",
    "while(1):\n",
    "    print(\"\\n1.sum \\n2.dif \\n3.mult \\n4.div\")\n",
    "    c=int(input(\"\\nenter your choice: \"))\n",
    "    if c==1:\n",
    "        print(\"sum is \",m+n)\n",
    "\n",
    "    elif c==2:\n",
    "        print(\"difference is \",m-n)\n",
    "\n",
    "    elif c==3:\n",
    "        print(\"multiplication is \",m*n)\n",
    "\n",
    "    elif c==4:\n",
    "        if n==0:\n",
    "            print(\"division is not possible\")\n",
    "        else:\n",
    "            print(\"division is \",m/n)\n",
    "    else:\n",
    "        print(\"\\nexiting..\")\n",
    "        break\n",
    "    "
   ]
  }
 ],
 "metadata": {
  "kernelspec": {
   "display_name": "Python 3",
   "language": "python",
   "name": "python3"
  },
  "language_info": {
   "codemirror_mode": {
    "name": "ipython",
    "version": 3
   },
   "file_extension": ".py",
   "mimetype": "text/x-python",
   "name": "python",
   "nbconvert_exporter": "python",
   "pygments_lexer": "ipython3",
   "version": "3.6.3"
  }
 },
 "nbformat": 4,
 "nbformat_minor": 2
}
