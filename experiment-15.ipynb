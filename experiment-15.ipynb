{
 "cells": [
  {
   "cell_type": "code",
   "execution_count": 5,
   "metadata": {},
   "outputs": [
    {
     "name": "stdout",
     "output_type": "stream",
     "text": [
      "[('Hello', 'NNP'), ('.', '.')]\n",
      "[('MCA', 'NNP'), ('S3', 'NNP'), ('fantastic', 'JJ'), ('.', '.')]\n",
      "[('We', 'PRP'), ('learn', 'VBP'), ('many', 'JJ'), ('new', 'JJ'), ('concepts', 'NNS'), ('implement', 'JJ'), ('practical', 'JJ'), ('exams', 'NN'), ('.', '.')]\n",
      "[('1st', 'CD'), ('data', 'NNS'), ('science', 'NN'), ('new', 'JJ'), ('paper', 'NN'), ('.', '.')]\n"
     ]
    },
    {
     "name": "stderr",
     "output_type": "stream",
     "text": [
      "[nltk_data] Downloading package stopwords to /home/ksb/nltk_data...\n",
      "[nltk_data]   Package stopwords is already up-to-date!\n",
      "[nltk_data] Downloading package punkt to /home/ksb/nltk_data...\n",
      "[nltk_data]   Package punkt is already up-to-date!\n",
      "[nltk_data] Downloading package averaged_perceptron_tagger to\n",
      "[nltk_data]     /home/ksb/nltk_data...\n",
      "[nltk_data]   Package averaged_perceptron_tagger is already up-to-\n",
      "[nltk_data]       date!\n"
     ]
    }
   ],
   "source": [
    "#part of speech tagging:\n",
    "import nltk\n",
    "from nltk.corpus import stopwords\n",
    "from nltk.tokenize import word_tokenize, sent_tokenize\n",
    "nltk.download('stopwords')\n",
    "nltk.download('punkt')\n",
    "nltk.download('averaged_perceptron_tagger')\n",
    "\n",
    "stop_words = set(stopwords.words('english'))\n",
    "  \n",
    "#Dummy text\n",
    "txt = \"Hello. MCA S3 is fantastic. We learn many new concepts and implement them in our practical exams. \"\\\n",
    "\"1st of all the data science is a new paper.\"\n",
    "  \n",
    "# sent_tokenize is one of instances of \n",
    "# PunktSentenceTokenizer from the nltk.tokenize.punkt module\n",
    "  \n",
    "tokenized = sent_tokenize(txt)\n",
    "for i in tokenized:\n",
    "      \n",
    "    # Word tokenizers is used to find the words \n",
    "    # and punctuation in a string\n",
    "    wordsList = nltk.word_tokenize(i)\n",
    "  \n",
    "    # removing stop words from wordList\n",
    "    wordsList = [w for w in wordsList if not w in stop_words] \n",
    "  \n",
    "    #  Using a Tagger. Which is part-of-speech \n",
    "    # tagger or POS-tagger. \n",
    "    tagged = nltk.pos_tag(wordsList)\n",
    "  \n",
    "    print(tagged)"
   ]
  },
  {
   "cell_type": "code",
   "execution_count": 7,
   "metadata": {},
   "outputs": [
    {
     "name": "stdout",
     "output_type": "stream",
     "text": [
      "After Regex: chunk.RegexpParser with 1 stages:\n",
      "RegexpChunkParser with 1 rules:\n",
      "       <ChunkRule: '<NN.?>*<VBD.?>*<JJ.?>*<CC>?'>\n",
      "After Chunking (S\n",
      "  1st/CD\n",
      "  (mychunk data/NNS science/NN new/JJ)\n",
      "  (mychunk paper/NN)\n",
      "  ./.)\n"
     ]
    }
   ],
   "source": [
    "#chunking:\n",
    "from nltk.chunk import RegexpParser\n",
    " \n",
    "patterns = \"\"\"mychunk:{<NN.?>*<VBD.?>*<JJ.?>*<CC>?}\"\"\"\n",
    "chunker = RegexpParser(patterns)\n",
    "print(\"After Regex:\",chunker)\n",
    "output = chunker.parse(tagged)\n",
    "print(\"After Chunking\",output)\n"
   ]
  },
  {
   "cell_type": "code",
   "execution_count": 11,
   "metadata": {},
   "outputs": [
    {
     "name": "stdout",
     "output_type": "stream",
     "text": [
      "<class 'pandas.core.frame.DataFrame'>\n",
      "RangeIndex: 4846 entries, 0 to 4845\n",
      "Data columns (total 2 columns):\n",
      "Sentiment    4846 non-null object\n",
      "news         4846 non-null object\n",
      "dtypes: object(2)\n",
      "memory usage: 75.8+ KB\n",
      "Sentence after removing stopwords: ['The', 'sun', 'rises', 'east']\n",
      "Sentence after removing stopwords: ['The', 'sun', 'rises', 'east']\n",
      "Sentence after removing stopwords: ['The', 'sun', 'rises', 'east']\n"
     ]
    },
    {
     "name": "stderr",
     "output_type": "stream",
     "text": [
      "[nltk_data] Downloading package stopwords to /home/ksb/nltk_data...\n",
      "[nltk_data]   Package stopwords is already up-to-date!\n"
     ]
    },
    {
     "data": {
      "text/plain": [
       "['The sun rises east']"
      ]
     },
     "execution_count": 11,
     "metadata": {},
     "output_type": "execute_result"
    }
   ],
   "source": [
    "#ngram:\n",
    "#explore the dataset\n",
    "import numpy as np\n",
    "import pandas as pd\n",
    "import matplotlib.pyplot as plt\n",
    "plt.style.use(style='seaborn')\n",
    "\n",
    "#get the data from https://www.kaggle.com/ankurzing/sentiment-analysis-for-financial-news/version/5\n",
    "\n",
    "colnames=['Sentiment', 'news']\n",
    "\n",
    "df=pd.read_csv('all-data.csv',encoding = \"ISO-8859-1\", names=colnames, header = None)\n",
    "df.head()\n",
    "df.info()\n",
    "df['Sentiment'].value_counts()\n",
    "\n",
    "y=df['Sentiment'].values\n",
    "y.shape\n",
    "x=df['news'].values\n",
    "x.shape\n",
    "\n",
    "from sklearn.model_selection import train_test_split\n",
    "(x_train,x_test,y_train,y_test)=train_test_split(x,y,test_size=0.4)\n",
    "\n",
    "df1=pd.DataFrame(x_train)\n",
    "df1=df1.rename(columns={0:'news'})\n",
    "df2=pd.DataFrame(y_train)\n",
    "df2=df2.rename(columns={0:'sentiment'})\n",
    "df_train=pd.concat([df1,df2],axis=1)\n",
    "df_train.head()\n",
    "\n",
    "df3=pd.DataFrame(x_test)\n",
    "df3=df3.rename(columns={0:'news'})\n",
    "df4=pd.DataFrame(y_test)\n",
    "df4=df2.rename(columns={0:'sentiment'})\n",
    "df_test=pd.concat([df3,df4],axis=1)\n",
    "df_test.head()\n",
    "\n",
    "\n",
    "#removing punctuations\n",
    "#library that contains punctuation\n",
    "import string\n",
    "string.punctuation\n",
    "def remove_punctuation(text):\n",
    "  if(type(text)==float):\n",
    "    return text\n",
    "  ans=\"\"  \n",
    "  for i in text:     \n",
    "    if i not in string.punctuation:\n",
    "      ans+=i    \n",
    "  return ans\n",
    "\n",
    "#storing the puntuation free text in a new column called clean_msg\n",
    "df_train['news']= df_train['news'].apply(lambda x:remove_punctuation(x))\n",
    "df_test['news']= df_test['news'].apply(lambda x:remove_punctuation(x))\n",
    "df_train.head()\n",
    "#punctuations are removed from news column in train dataset\n",
    "\n",
    "\n",
    "\n",
    "import nltk\n",
    "from nltk.corpus import stopwords\n",
    "nltk.download('stopwords')\n",
    "\n",
    "#method to generate n-grams:\n",
    "#params:\n",
    "#text-the text for which we have to generate n-grams\n",
    "#ngram-number of grams to be generated from the text(1,2,3,4 etc., default value=1)\n",
    "def generate_N_grams(text,ngram=1):\n",
    "  words=[word for word in text.split(\" \") if word not in set(stopwords.words('english'))]  \n",
    "  print(\"Sentence after removing stopwords:\",words)\n",
    "  temp=zip(*[words[i:] for i in range(0,ngram)])\n",
    "  ans=[' '.join(ngram) for ngram in temp]\n",
    "  return ans\n",
    "\n",
    "generate_N_grams(\"The sun rises in the east\",2)\n",
    "generate_N_grams(\"The sun rises in the east\",3)\n",
    "generate_N_grams(\"The sun rises in the east\",4)"
   ]
  },
  {
   "cell_type": "code",
   "execution_count": null,
   "metadata": {
    "collapsed": true
   },
   "outputs": [],
   "source": []
  }
 ],
 "metadata": {
  "kernelspec": {
   "display_name": "Python 3",
   "language": "python",
   "name": "python3"
  },
  "language_info": {
   "codemirror_mode": {
    "name": "ipython",
    "version": 3
   },
   "file_extension": ".py",
   "mimetype": "text/x-python",
   "name": "python",
   "nbconvert_exporter": "python",
   "pygments_lexer": "ipython3",
   "version": "3.6.3"
  }
 },
 "nbformat": 4,
 "nbformat_minor": 2
}
