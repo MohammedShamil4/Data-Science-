{
 "cells": [
  {
   "cell_type": "code",
   "execution_count": 17,
   "metadata": {},
   "outputs": [
    {
     "name": "stdout",
     "output_type": "stream",
     "text": [
      "[[1 1]\n",
      " [2 1]\n",
      " [2 3]\n",
      " [3 2]\n",
      " [4 3]\n",
      " [5 5]]\n"
     ]
    }
   ],
   "source": [
    "from sklearn.datasets import  load_iris\n",
    "import numpy as np\n",
    "import pandas as pd\n",
    "a=pd.read_csv('ir.csv')\n",
    "x=a.iloc[:, :].values\n",
    "print(x)"
   ]
  },
  {
   "cell_type": "code",
   "execution_count": 21,
   "metadata": {},
   "outputs": [
    {
     "name": "stdout",
     "output_type": "stream",
     "text": [
      "[1 1 1 1 0 0]\n"
     ]
    }
   ],
   "source": [
    "from sklearn.cluster import KMeans as km\n",
    "model=km(n_clusters=2,init='k-means++', n_init=10)\n",
    "model.fit(x)\n",
    "p=model.predict(x)\n",
    "print(p)"
   ]
  },
  {
   "cell_type": "code",
   "execution_count": null,
   "metadata": {
    "collapsed": true
   },
   "outputs": [],
   "source": [
    "import matplotlib.pyplot as plt \n",
    "colors=list(map(lambda x:'#3b4cc0' if x==1 else '#000000',p))\n",
    "plt.scatter(x[])"
   ]
  }
 ],
 "metadata": {
  "kernelspec": {
   "display_name": "Python 3",
   "language": "python",
   "name": "python3"
  },
  "language_info": {
   "codemirror_mode": {
    "name": "ipython",
    "version": 3
   },
   "file_extension": ".py",
   "mimetype": "text/x-python",
   "name": "python",
   "nbconvert_exporter": "python",
   "pygments_lexer": "ipython3",
   "version": "3.6.3"
  }
 },
 "nbformat": 4,
 "nbformat_minor": 2
}
