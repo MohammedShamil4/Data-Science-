{
 "cells": [
  {
   "cell_type": "code",
   "execution_count": 2,
   "metadata": {},
   "outputs": [
    {
     "name": "stdout",
     "output_type": "stream",
     "text": [
      "matrix m1 :\n",
      " [[1 2]\n",
      " [3 4]]\n",
      "\n",
      " matrix m2 :\n",
      " [[2 4]\n",
      " [1 4]]\n",
      "\n",
      " multiplication of m1 and m2 is :\n",
      " [[ 4 12]\n",
      " [10 28]]\n"
     ]
    }
   ],
   "source": [
    "#program to perform matrix multiplication\n",
    "\n",
    "import numpy as np\n",
    "\n",
    "m1=np.array([[1,2],[3,4]])\n",
    "m2=np.array([[2,4],[1,4]])\n",
    "d=np.dot(m1,m2)\n",
    "print(\"matrix m1 :\\n\",m1)\n",
    "print(\"\\n matrix m2 :\\n\",m2)\n",
    "print(\"\\n multiplication of m1 and m2 is :\\n\",d)"
   ]
  }
 ],
 "metadata": {
  "kernelspec": {
   "display_name": "Python 3",
   "language": "python",
   "name": "python3"
  },
  "language_info": {
   "codemirror_mode": {
    "name": "ipython",
    "version": 3
   },
   "file_extension": ".py",
   "mimetype": "text/x-python",
   "name": "python",
   "nbconvert_exporter": "python",
   "pygments_lexer": "ipython3",
   "version": "3.6.3"
  }
 },
 "nbformat": 4,
 "nbformat_minor": 2
}
